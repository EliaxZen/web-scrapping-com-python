{
 "cells": [
  {
   "cell_type": "code",
   "execution_count": 7,
   "metadata": {},
   "outputs": [
    {
     "name": "stdout",
     "output_type": "stream",
     "text": [
      "<Response [200]>\n"
     ]
    }
   ],
   "source": [
    "import requests\n",
    "from bs4 import BeautifulSoup\n",
    "import pandas as pd\n",
    "\n",
    "lista_de_imoveis = []\n",
    "pagina = 1\n",
    "\n",
    "headers = {\n",
    "    'User-Agent': 'Mozilla/5.0 (Windows NT 10.0; Win64; x64) AppleWebKit/537.36 (KHTML, like Gecko) Chrome/58.0.3029.110 Safari/537.3'\n",
    "}\n",
    "\n",
    "for pagina in range(3200):\n",
    "    pagina += 1\n",
    "    url = f'https://www.wimoveis.com.br/imoveis-venda-distrito-federal-pagina-{pagina}.html'\n",
    "    resposta = requests.get(url, headers=headers)\n",
    "    conteudo = resposta.content\n",
    "\n",
    "    site = BeautifulSoup(conteudo, 'html.parser')\n",
    "\n",
    "    # HTML do anúncio do imóvel\n",
    "    imoveis = site.findAll('div', attrs={'class': 'sc-i1odl-0 dreQQz'})\n",
    "\n",
    "    for imovel in imoveis:\n",
    "        # Título do imóvel\n",
    "        titulo = imovel.find('div', attrs={'class': 'sc-ge2uzh-0 eWOwnE postingAddress'})\n",
    "        titulo_text = titulo.text if titulo else None\n",
    "\n",
    "        # Subtítulo do imóvel\n",
    "        subtitulo = imovel.find('h2', attrs={'data-qa': 'POSTING_CARD_LOCATION'})\n",
    "        subtitulo_text = subtitulo.text.strip() if subtitulo else None\n",
    "\n",
    "        # Link do imovel\n",
    "        link = 'https://www.wimoveis.com.br' + imovel['data-to-posting']\n",
    "\n",
    "        # Preco aluguel\n",
    "        preco = imovel.find('div', attrs={'data-qa': 'POSTING_CARD_PRICE'})\n",
    "        preco_text = preco.text if preco else None\n",
    "\n",
    "        # Metro quadrado\n",
    "        metro_area = imovel.find('h3', attrs={'data-qa': 'POSTING_CARD_FEATURES'})\n",
    "        metro = metro_area.find('span') if metro_area else None\n",
    "        metro_text = metro.text.replace('m²', '').strip() if metro else None\n",
    "\n",
    "        # quartos, suíte, vagas\n",
    "        quarto_suite_vaga = imovel.find('h3', attrs={'data-qa': 'POSTING_CARD_FEATURES'})\n",
    "        lista = quarto_suite_vaga.text.split() if quarto_suite_vaga else None\n",
    "\n",
    "        lista_de_imoveis.append([titulo_text, subtitulo_text, link, preco_text, metro_text, lista])\n",
    "\n",
    "\n",
    "        \n",
    "\n",
    "\n",
    "\n",
    "df_imovel = pd.DataFrame(lista_de_imoveis, columns=['Título', 'Subtítulo', 'Link', 'Preço','Metro Quadrado', 'Metro, Quarto, Suite, Vaga'])\n",
    "df_imovel.to_excel(r'C:\\Users\\galva\\OneDrive\\Documentos\\GitHub\\web-scrapping-com-python\\teste_script\\wimoveis_scrapping_venda.xlsx', index=False)\n",
    "print(resposta)"
   ]
  },
  {
   "cell_type": "code",
   "execution_count": null,
   "metadata": {},
   "outputs": [],
   "source": []
  },
  {
   "cell_type": "code",
   "execution_count": null,
   "metadata": {},
   "outputs": [],
   "source": []
  }
 ],
 "metadata": {
  "kernelspec": {
   "display_name": "Python 3",
   "language": "python",
   "name": "python3"
  },
  "language_info": {
   "codemirror_mode": {
    "name": "ipython",
    "version": 3
   },
   "file_extension": ".py",
   "mimetype": "text/x-python",
   "name": "python",
   "nbconvert_exporter": "python",
   "pygments_lexer": "ipython3",
   "version": "3.12.0"
  }
 },
 "nbformat": 4,
 "nbformat_minor": 2
}
